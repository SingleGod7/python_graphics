{
 "cells": [
  {
   "attachments": {},
   "cell_type": "markdown",
   "metadata": {},
   "source": [
    "# Z-缓冲来实现正确的遮挡关系\n",
    "我们如何实现正确的遮挡关系呢，首先我们想到的是画家算法，我们将所需要渲染的物体进行排序，然后从后往前依次渲染，这样就可以得到我们最后得到的图片。\n",
    "\n",
    "但是这样会有一个问题，如果我们要渲染的物体互相有遮挡关系，那么我们的物体就不能成功渲染了，会出现奇怪的现象。\n",
    "\n",
    "为了解决这个问题，我们会使用Z-buffer来储存物体关于深度的信息，只有物体深度不超过现有深度，才会进行渲染。"
   ]
  },
  {
   "cell_type": "code",
   "execution_count": 9,
   "metadata": {},
   "outputs": [
    {
     "data": {
      "image/png": "[encoded data removed]",
      "text/plain": [
       "<PIL.Image.Image image mode=RGB size=300x300>"
      ]
     },
     "metadata": {},
     "output_type": "display_data"
    }
   ],
   "source": [
    "import buffer\n",
    "\n",
    "height, width = 300, 300\n",
    "\n",
    "fb = buffer.FrameBuffer(width, height)\n",
    "#定义一个z-buffer\n",
    "zb = buffer.Image.new(\"F\", (width, height), color = float('-inf'))\n",
    "\n",
    "fb.fill_triangle((20, 20), (80, 30), (50, 70))\n",
    "fb.display()\n"
   ]
  }
 ],
 "metadata": {
  "kernelspec": {
   "display_name": "graphic",
   "language": "python",
   "name": "python3"
  },
  "language_info": {
   "codemirror_mode": {
    "name": "ipython",
    "version": 3
   },
   "file_extension": ".py",
   "mimetype": "text/x-python",
   "name": "python",
   "nbconvert_exporter": "python",
   "pygments_lexer": "ipython3",
   "version": "3.10.9"
  },
  "orig_nbformat": 4
 },
 "nbformat": 4,
 "nbformat_minor": 2
}
