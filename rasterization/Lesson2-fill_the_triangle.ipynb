{
 "cells": [
  {
   "attachments": {},
   "cell_type": "markdown",
   "metadata": {},
   "source": [
    "# 填充三角形"
   ]
  },
  {
   "attachments": {},
   "cell_type": "markdown",
   "metadata": {},
   "source": [
    "## 老式做法 ：扫描线算法\n",
    "- 根据顶点的y坐标来对顶点进行排序\n",
    "- 同时光栅化三角形的左边和右边\n",
    "- 在左边和右边之间画水平线"
   ]
  },
  {
   "attachments": {},
   "cell_type": "markdown",
   "metadata": {},
   "source": [
    "### 对三角形顶点排序"
   ]
  },
  {
   "cell_type": "code",
   "execution_count": 23,
   "metadata": {},
   "outputs": [
    {
     "data": {
      "image/png": "[encoded data removed]",
      "text/plain": [
       "<PIL.Image.Image image mode=RGB size=200x200>"
      ]
     },
     "metadata": {},
     "output_type": "display_data"
    }
   ],
   "source": [
    "import buffer\n",
    "\n",
    "#定义一些颜色\n",
    "red = (255, 0, 0)\n",
    "green = (0, 255, 0)\n",
    "blue = (0, 0, 255)\n",
    "\n",
    "#定义一个三角形类\n",
    "class Triangle:\n",
    "    def __init__(self, v0, v1, v2) -> None:\n",
    "        self.v0 = v0\n",
    "        self.v1 = v1\n",
    "        self.v2 = v2\n",
    "\n",
    "t0 = Triangle((10, 70), (50, 160), (70, 80))\n",
    "t1 = Triangle((180, 50), (150, 1), (70, 180))\n",
    "t2 = Triangle((180, 150), (120, 160), (130, 180))\n",
    "\n",
    "#渲染三角形外框\n",
    "def r_triange1(triangle, fb, color):\n",
    "    fb.draw_line(triangle.v0, triangle.v1, color)\n",
    "    fb.draw_line(triangle.v1, triangle.v2, color)\n",
    "    fb.draw_line(triangle.v2, triangle.v0, color)\n",
    "\n",
    "fb = buffer.FrameBuffer(200, 200)\n",
    "r_triange1(t0, fb, blue)\n",
    "r_triange1(t1, fb, green)\n",
    "r_triange1(t2, fb, red)\n",
    "\n",
    "fb.display()"
   ]
  },
  {
   "attachments": {},
   "cell_type": "markdown",
   "metadata": {},
   "source": [
    "接下来我们对三角形的顶点进行排序。将其分为左边界和右边界，我们用蓝色来表示有两段的边界，用绿色来表示只有一段的边界。"
   ]
  },
  {
   "cell_type": "code",
   "execution_count": 24,
   "metadata": {},
   "outputs": [
    {
     "data": {
      "image/png": "[encoded data removed]",
      "text/plain": [
       "<PIL.Image.Image image mode=RGB size=200x200>"
      ]
     },
     "metadata": {},
     "output_type": "display_data"
    }
   ],
   "source": [
    "def r_triange2(triangle, fb):\n",
    "    if(triangle.v0[1] > triangle.v1[1]):\n",
    "        x = triangle.v0\n",
    "        triangle.v0 = triangle.v1\n",
    "        triangle.v1 = x\n",
    "    if(triangle.v1[1] > triangle.v2[1]):\n",
    "        x = triangle.v2\n",
    "        triangle.v2 = triangle.v1\n",
    "        triangle.v1 = x\n",
    "    if(triangle.v0[1] > triangle.v1[1]):\n",
    "        x = triangle.v0\n",
    "        triangle.v0 = triangle.v1\n",
    "        triangle.v1 = x\n",
    "    fb.draw_line(triangle.v0, triangle.v1, blue)\n",
    "    fb.draw_line(triangle.v1, triangle.v2, blue)\n",
    "    fb.draw_line(triangle.v2, triangle.v0, green)\n",
    "\n",
    "fb.clear()\n",
    "r_triange2(t0, fb)\n",
    "r_triange2(t1, fb)\n",
    "r_triange2(t2, fb)\n",
    "\n",
    "fb.display()"
   ]
  },
  {
   "attachments": {},
   "cell_type": "markdown",
   "metadata": {},
   "source": [
    "### 同时光栅化三角形的左边和右边\n",
    "我们先把三角形从上到下分为两个部分分别渲染,分界点就是中间的那个顶点。"
   ]
  },
  {
   "cell_type": "code",
   "execution_count": 25,
   "metadata": {},
   "outputs": [
    {
     "data": {
      "image/png": "[encoded data removed]",
      "text/plain": [
       "<PIL.Image.Image image mode=RGB size=200x200>"
      ]
     },
     "metadata": {},
     "output_type": "display_data"
    }
   ],
   "source": [
    "def r_triange3_up(triangle, fb):\n",
    "    #假设三角形已经经过排序了\n",
    "    height1 = triangle.v1[1] - triangle.v0[1]\n",
    "    height2 = triangle.v2[1] - triangle.v0[1]\n",
    "    for i in range(round(triangle.v0[1]), round(triangle.v1[1])):\n",
    "        alpha = (i - triangle.v0[1]) / height1 \n",
    "        beta = (i - triangle.v0[1]) / height2\n",
    "        x1 = triangle.v0[0] + alpha * (triangle.v1[0] - triangle.v0[0]) \n",
    "        x2 = triangle.v0[0] + beta * (triangle.v2[0] - triangle.v0[0])\n",
    "        fb.draw_point((x1, i), blue)\n",
    "        fb.draw_point((x2, i), green)\n",
    "\n",
    "fb.clear()\n",
    "r_triange3_up(t0, fb) \n",
    "r_triange3_up(t1, fb) \n",
    "r_triange3_up(t2, fb) \n",
    "fb.display()"
   ]
  },
  {
   "cell_type": "code",
   "execution_count": 26,
   "metadata": {},
   "outputs": [
    {
     "data": {
      "image/png": "[encoded data removed]",
      "text/plain": [
       "<PIL.Image.Image image mode=RGB size=200x200>"
      ]
     },
     "metadata": {},
     "output_type": "display_data"
    }
   ],
   "source": [
    "def r_triange3_down(triangle, fb):\n",
    "    #假设三角形已经经过排序了\n",
    "    height1 = triangle.v2[1] - triangle.v1[1]\n",
    "    height2 = triangle.v2[1] - triangle.v0[1]\n",
    "    for i in range(round(triangle.v1[1]), round(triangle.v2[1])):\n",
    "        alpha = (i - triangle.v1[1]) / height1 \n",
    "        beta = (i - triangle.v0[1]) / height2\n",
    "        x1 = triangle.v1[0] + alpha * (triangle.v2[0] - triangle.v1[0]) \n",
    "        x2 = triangle.v0[0] + beta * (triangle.v2[0] - triangle.v0[0])\n",
    "        fb.draw_point((x1, i), blue)\n",
    "        fb.draw_point((x2, i), green)\n",
    "\n",
    "fb.clear()\n",
    "r_triange3_down(t0, fb) \n",
    "r_triange3_down(t1, fb) \n",
    "r_triange3_down(t2, fb) \n",
    "fb.display()"
   ]
  },
  {
   "attachments": {},
   "cell_type": "markdown",
   "metadata": {},
   "source": [
    "### 在渲染的过程中在左边和右边之间加水平线"
   ]
  },
  {
   "cell_type": "code",
   "execution_count": 27,
   "metadata": {},
   "outputs": [
    {
     "data": {
      "image/png": "[encoded data removed]",
      "text/plain": [
       "<PIL.Image.Image image mode=RGB size=200x200>"
      ]
     },
     "metadata": {},
     "output_type": "display_data"
    }
   ],
   "source": [
    "def r_triange(triangle, fb, color):\n",
    "    #渲染上半部分\n",
    "    x0, y0 = triangle.v0\n",
    "    x1, y1 = triangle.v1\n",
    "    x2, y2 = triangle.v2\n",
    "\n",
    "    height = y2 - y0\n",
    "    height1 = y1 - y0\n",
    "    height2 = y2 - y1\n",
    "    for i in range(y0, y1):\n",
    "        alpha = (i - y0) / height1\n",
    "        beta = (i - y0) / height\n",
    "        sx = x0 + alpha * (x1 - x0)\n",
    "        lx = x0 + beta * (x2 - x0)\n",
    "        fb.draw_line((sx, i), (lx, i), color)\n",
    "    for i in range(y1, y2):\n",
    "        alpha = (i - y1) / height2\n",
    "        beta = (i - y0) / height\n",
    "        sx = x1 + alpha * (x2 - x1)\n",
    "        lx = x0 + beta * (x2 - x0)\n",
    "        fb.draw_line((sx, i), (lx, i), color)\n",
    "\n",
    "fb.clear()\n",
    "r_triange(t0, fb, red)\n",
    "r_triange(t1, fb, blue)\n",
    "r_triange(t2, fb, green)\n",
    "fb.display()"
   ]
  },
  {
   "attachments": {},
   "cell_type": "markdown",
   "metadata": {},
   "source": [
    "## 新做法，判断点是否在三角形内\n",
    "老式做法对传统的串行渲染来说已经足够快了，但是现代GPU流水线中，我们大量使用SIMD指令来实现并行，这就导致原来的算法虽然计算量比较小，但是无法并行。在现代cpu中我们使用向量的方法，对每一个像素用相同的程序进行判断。这样在宏观上我们只需要一个指令的时间就可以完成三角形的渲染。\n",
    "\n",
    "具体来说，我们有两种比较好的方法，第一种就是通过向量点乘，另一种就是计算重心坐标。现在最常用的还是重心坐标，因为它不仅仅在这上面可以用得到，在后面对顶点的性质进行插值的时候，重心坐标也会非常的有用。"
   ]
  },
  {
   "attachments": {},
   "cell_type": "markdown",
   "metadata": {},
   "source": [
    "### 点乘算法\n",
    "首先我们来进行向量的点乘算法。我们首先要计算垂直于每条边的向量。"
   ]
  },
  {
   "cell_type": "code",
   "execution_count": 28,
   "metadata": {},
   "outputs": [
    {
     "data": {
      "image/png": "[encoded data removed]",
      "text/plain": [
       "<PIL.Image.Image image mode=RGB size=200x200>"
      ]
     },
     "metadata": {},
     "output_type": "display_data"
    }
   ],
   "source": [
    "from geometry import Vec2, Vec3\n",
    "t = Triangle((100, 20), (25, 100), (175, 125))\n",
    "\n",
    "fb.clear()\n",
    "r_triange1(t, fb, red)\n",
    "\n",
    "v0 = Vec2(t.v0[0] - t.v1[0], t.v0[1] - t.v1[1])\n",
    "v1 = Vec2(t.v1[0] - t.v2[0], t.v1[1] - t.v2[1])\n",
    "v2 = Vec2(t.v2[0] - t.v0[0], t.v2[1] - t.v0[1])\n",
    "\n",
    "center = Vec2((t.v0[0] + t.v1[0] + t.v2[0]) / 3, (t.v0[1] + t.v1[1] + t.v2[1]) / 3)\n",
    "\n",
    "v0 = v0.rotate(-90).norm() * 50 + center\n",
    "v1 = v1.rotate(-90).norm() * 50 + center\n",
    "v2 = v2.rotate(-90).norm() * 50 + center\n",
    "\n",
    "fb.draw_line(center.to_tuple(), v0.to_tuple(), blue)\n",
    "fb.draw_line(center.to_tuple(), v1.to_tuple(), blue)\n",
    "fb.draw_line(center.to_tuple(), v2.to_tuple(), blue)\n",
    "\n",
    "fb.display()"
   ]
  },
  {
   "attachments": {},
   "cell_type": "markdown",
   "metadata": {},
   "source": [
    "这时候我们只需要判断需要判断的点和顶点组成的向量与边向量点乘结果的正负就可以判断点是否在三角形内了。由于三角形三个顶点给出的顺序不一样，所以我们需要判断三个结果是否同号，而不是全为正就在三角形内。"
   ]
  },
  {
   "cell_type": "code",
   "execution_count": 29,
   "metadata": {},
   "outputs": [
    {
     "data": {
      "image/png": "[encoded data removed]",
      "text/plain": [
       "<PIL.Image.Image image mode=RGB size=200x200>"
      ]
     },
     "metadata": {},
     "output_type": "display_data"
    }
   ],
   "source": [
    "#判断是否在三角形内\n",
    "def in_triangle(t, point):\n",
    "    v0 = Vec2(t.v1[0] - t.v0[0], t.v1[1] - t.v0[1]).rotate(90)\n",
    "    v1 = Vec2(t.v2[0] - t.v1[0], t.v2[1] - t.v1[1]).rotate(90)\n",
    "    v2 = Vec2(t.v0[0] - t.v2[0], t.v0[1] - t.v2[1]).rotate(90)\n",
    "\n",
    "    flag1 = v0.dot(point - Vec2(t.v0))\n",
    "    flag2 = v1.dot(point - Vec2(t.v1))\n",
    "    flag3 = v2.dot(point - Vec2(t.v2))\n",
    "\n",
    "    if(flag1 > 0 and flag2 > 0 and flag3 > 0) or (flag1 < 0 and flag2 < 0 and flag3 < 0):\n",
    "        return True\n",
    "    else:\n",
    "        return False\n",
    "\n",
    "#通过点积来渲染三角形\n",
    "def r_triange_dot(t, fb, color = (0, 0, 0)):\n",
    "    max_x = max(t.v0[0], max(t.v1[0], t.v2[0]))\n",
    "    max_y = max(t.v0[1], max(t.v1[1], t.v2[1]))\n",
    "\n",
    "    min_x = min(t.v0[0], min(t.v1[0], t.v2[0]))\n",
    "    min_y = min(t.v0[1], min(t.v1[1], t.v2[1]))\n",
    "\n",
    "    for i in range(min_x, max_x):\n",
    "        for j in range(min_y, max_y):\n",
    "            if(in_triangle(t, Vec2(i, j))):\n",
    "                fb.draw_point((i, j), color)\n",
    "\n",
    "fb.clear()\n",
    "r_triange_dot(t, fb, red)\n",
    "fb.display()"
   ]
  },
  {
   "attachments": {},
   "cell_type": "markdown",
   "metadata": {},
   "source": [
    "### 重心坐标的算法\n",
    "我们可以用三角形的顶点来作为坐标系，建立我们的重心坐标。因为我们表示的是二维的平面，所以我们需要通过将三个坐标和规定为一来减少一个自由度。\n",
    "\n",
    "为什么叫重心坐标呢，是因为如果我们要表示的点作为重心，只需要在三角形的三个顶点上分配相应的权重就行了。\n",
    "\n",
    "每个顶点的重心坐标值为对应的边，和所要表示的点形成的三角形的面积和总体面积的比值，全在三角形外的三角形面积为负数。相应的重心坐标就为负数，所以我们只要通过重心坐标的正负就能判断是否在三角形内了。"
   ]
  },
  {
   "cell_type": "code",
   "execution_count": 30,
   "metadata": {},
   "outputs": [
    {
     "data": {
      "image/png": "[encoded data removed]",
      "text/plain": [
       "<PIL.Image.Image image mode=RGB size=200x200>"
      ]
     },
     "metadata": {},
     "output_type": "display_data"
    }
   ],
   "source": [
    "def barycentric(t, point):\n",
    "    v0 = Vec2(t.v1) - Vec2(t.v0)\n",
    "    v1 = Vec2(t.v2) - Vec2(t.v1)\n",
    "    v2 = Vec2(t.v0) - Vec2(t.v2)\n",
    "\n",
    "    # 向量的叉乘就是两个向量对应的平行四边形的面积\n",
    "    # 因为是面积的比值，所以对应三角形面积的比值和平行四边形面积比值相同\n",
    "    S = abs(v0.cross(v1))\n",
    "    if(S == 0):\n",
    "        return (-1, 1, 1)\n",
    "    alpha = (Vec2(point) - Vec2(t.v0)).cross(v0) / S\n",
    "    beta = (Vec2(point) - Vec2(t.v1)).cross(v1) / S\n",
    "    gamma = (Vec2(point) - Vec2(t.v2)).cross(v2) / S\n",
    "\n",
    "    #由于叉乘有方向性，如果是方向和我们预期的相反，那么我们的所有坐标值加起来就会等于-1\n",
    "    #这时候我们就需要给他们全部取反\n",
    "    if(alpha + beta + gamma + 1 < 1e-5):\n",
    "        alpha = -alpha\n",
    "        beta = -beta\n",
    "        gamma = -gamma\n",
    "    return (alpha, beta, gamma)\n",
    "\n",
    "def r_triange_barycentric(t, fb, color):\n",
    "    max_x = max(t.v0[0], max(t.v1[0], t.v2[0]))\n",
    "    max_y = max(t.v0[1], max(t.v1[1], t.v2[1]))\n",
    "\n",
    "    min_x = min(t.v0[0], min(t.v1[0], t.v2[0]))\n",
    "    min_y = min(t.v0[1], min(t.v1[1], t.v2[1]))\n",
    "\n",
    "    for i in range(min_x, max_x):\n",
    "        for j in range(min_y, max_y):\n",
    "            coord = barycentric(t, (i, j))\n",
    "            if(coord[0] >= 0 and coord[1] >= 0 and coord[2] >= 0):\n",
    "                fb.draw_point((i, j), color)\n",
    "\n",
    "fb.clear()\n",
    "r_triange_barycentric(t, fb, green)\n",
    "fb.display()"
   ]
  },
  {
   "attachments": {},
   "cell_type": "markdown",
   "metadata": {},
   "source": [
    "# 平面渲染芭芭拉\n",
    "现在我们知道了三角形怎么渲染了，然后我们就给我们上节课渲染的芭芭拉来上色吧。\n",
    "我们给每个像素一个随机的颜色。"
   ]
  },
  {
   "cell_type": "code",
   "execution_count": 31,
   "metadata": {},
   "outputs": [
    {
     "data": {
      "text/plain": [
       "'\\nfor i in babala.face:\\n    v = babala.get_vertex(i)\\n    sv = []\\n    for i in range(3):\\n        x, y, _ = v[i]\\n        sv.append((floor((x / babala.scala + 1) * fb.width / 2), floor((-y / babala.scala + 1) * fb.height / 2)))\\n    t = Triangle(sv[0], sv[1], sv[2])\\n    r_triange_barycentric(t, fb, tuple((random.randint(0, 255) for i in range(3))))\\nfb.display()\\n'"
      ]
     },
     "execution_count": 31,
     "metadata": {},
     "output_type": "execute_result"
    }
   ],
   "source": [
    "import model\n",
    "import random\n",
    "from math import floor\n",
    "babala = model.Model(\"./obj/babala/babala.obj\")\n",
    "\n",
    "\n",
    "fb = buffer.FrameBuffer(1000, 1000)\n",
    "\n",
    "for i in babala.face:\n",
    "    v = babala.get_vertex(i)\n",
    "    sv = []\n",
    "    for i in range(3):\n",
    "        x, y, _ = v[i]\n",
    "        sv.append((floor((x / babala.scala + 1) * fb.width / 2), floor((-y / babala.scala + 1) * fb.height / 2)))\n",
    "    t = Triangle(sv[0], sv[1], sv[2])\n",
    "    r_triange_barycentric(t, fb, tuple((random.randint(0, 255) for i in range(3))))\n",
    "fb.display()\n",
    "\n"
   ]
  },
  {
   "attachments": {},
   "cell_type": "markdown",
   "metadata": {},
   "source": [
    "## 来点光吧！\n",
    "我们这次使用漫反射光源，用射向z轴负方向的光源，然后利用三角形一个点的向量和光源的点击来确定光强。"
   ]
  },
  {
   "cell_type": "code",
   "execution_count": 36,
   "metadata": {},
   "outputs": [
    {
     "data": {
      "image/png": "[encoded data removed]",
      "text/plain": [
       "<PIL.Image.Image image mode=RGB size=1000x1000>"
      ]
     },
     "metadata": {},
     "output_type": "display_data"
    }
   ],
   "source": [
    "light = Vec3(0, 0, -0.5)\n",
    "for i in babala.face:\n",
    "    v = babala.get_vertex(i)\n",
    "    sv = []\n",
    "    for i in range(3):\n",
    "        x, y, _ = v[i]\n",
    "        sv.append((floor((x / babala.scala + 1) * fb.width / 2), floor((-y / babala.scala + 1) * fb.height / 2)))\n",
    "    t = Triangle(sv[0], sv[1], sv[2])\n",
    "    v = (Vec3(v[1]) - Vec3(v[0])).cross(Vec3(v[2]) - Vec3(v[0]))\n",
    "    v.norm()\n",
    "    color = light.dot(v)\n",
    "    if(color > 0):\n",
    "        r_triange_barycentric(t, fb, tuple(floor(color * 255) for i in range(3)))\n",
    "fb.display()"
   ]
  },
  {
   "attachments": {},
   "cell_type": "markdown",
   "metadata": {},
   "source": [
    "芭芭拉冲压！"
   ]
  }
 ],
 "metadata": {
  "kernelspec": {
   "display_name": "graphic",
   "language": "python",
   "name": "python3"
  },
  "language_info": {
   "codemirror_mode": {
    "name": "ipython",
    "version": 3
   },
   "file_extension": ".py",
   "mimetype": "text/x-python",
   "name": "python",
   "nbconvert_exporter": "python",
   "pygments_lexer": "ipython3",
   "version": "3.10.9"
  },
  "orig_nbformat": 4,
  "vscode": {
   "interpreter": {
    "hash": "99509e1328c23c2e28f5ed7403413cca26f255f68a9948c9803edab1ea87de40"
   }
  }
 },
 "nbformat": 4,
 "nbformat_minor": 2
}
