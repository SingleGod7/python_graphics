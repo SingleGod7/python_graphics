{
 "cells": [
  {
   "attachments": {},
   "cell_type": "markdown",
   "metadata": {},
   "source": [
    "# 画线算法的实现"
   ]
  },
  {
   "cell_type": "code",
   "execution_count": 4,
   "metadata": {},
   "outputs": [],
   "source": [
    "import buffer"
   ]
  },
  {
   "cell_type": "code",
   "execution_count": 5,
   "metadata": {},
   "outputs": [
    {
     "data": {
      "image/png": "[encoded data removed]",
      "text/plain": [
       "<PIL.Image.Image image mode=RGB size=200x200>"
      ]
     },
     "metadata": {},
     "output_type": "display_data"
    }
   ],
   "source": [
    "fb = buffer.FrameBuffer(200, 200)\n",
    "fb.display()"
   ]
  },
  {
   "attachments": {},
   "cell_type": "markdown",
   "metadata": {},
   "source": [
    "## 最原始的画线方法\n",
    "在两个点之间用固定的点数进行插值"
   ]
  },
  {
   "cell_type": "code",
   "execution_count": 6,
   "metadata": {},
   "outputs": [
    {
     "data": {
      "image/png": "[encoded data removed]",
      "text/plain": [
       "<PIL.Image.Image image mode=RGB size=200x200>"
      ]
     },
     "metadata": {},
     "output_type": "display_data"
    }
   ],
   "source": [
    "def draw_line1(start, end, frame_buffer):\n",
    "    t = 0\n",
    "    x0, y0 = start\n",
    "    x1, y1 = end\n",
    "    if(x0 > x1):\n",
    "        return draw_line1(end, start, frame_buffer)\n",
    "    while(t < 1):\n",
    "        x = x0 + (x1 - x0) * t\n",
    "        y = y0 + (y1 - y0) * t\n",
    "        frame_buffer.draw_point((x, y))\n",
    "        t += 0.02\n",
    "\n",
    "fb.fill((0, 0, 0))\n",
    "draw_line1((0, 0), (100, 100), fb)\n",
    "draw_line1((0, 0), (199, 15), fb)\n",
    "draw_line1((0, 0), (15, 199), fb)\n",
    "fb.display()\n",
    "    "
   ]
  },
  {
   "attachments": {},
   "cell_type": "markdown",
   "metadata": {},
   "source": [
    "- 可以看到这样做的话对于短的线段我们取得了较好的效果，但是对于长的线段，我们并不能取得很好的效果，主要是我们这样的做法相当于把线段分成了固定数量的子线段，每个线段用点来代替，对于短线段来说，每个子线段长度小，用点代替取得的效果还不错，但是对长线段来说，子线段长度很长，所以用来代替的效果就很差。\n",
    "- 那么我们可以想到，可以增加点数来提高精确性，这样确实可以，但是对于短线段来说有很多冗余的计算，大大降低了效率。"
   ]
  },
  {
   "attachments": {},
   "cell_type": "markdown",
   "metadata": {},
   "source": [
    "# 改进#1\n",
    "在x方向上，每固定长度取个点，使得取得点的多少和长度产生一定的关系，就改进了长线段的情况"
   ]
  },
  {
   "cell_type": "code",
   "execution_count": 7,
   "metadata": {},
   "outputs": [
    {
     "data": {
      "image/png": "[encoded data removed]",
      "text/plain": [
       "<PIL.Image.Image image mode=RGB size=200x200>"
      ]
     },
     "metadata": {},
     "output_type": "display_data"
    }
   ],
   "source": [
    "def draw_line2(start, end, frame_buffer):\n",
    "    x0, y0 = start\n",
    "    x1, y1 = end\n",
    "    if(x0 > x1):\n",
    "        return draw_line2(end, start, frame_buffer)\n",
    "    if(x1 == x0):\n",
    "        frame_buffer.draw_point(start)\n",
    "        return\n",
    "    t = 0\n",
    "    dt = 1.0 / (x1 - x0)\n",
    "    while(t < 1):\n",
    "        x = x0 + (x1 - x0) * t\n",
    "        y = y0 + (y1 - y0) * t\n",
    "        frame_buffer.draw_point((x, y))\n",
    "        t += dt\n",
    "\n",
    "fb.fill((0, 0, 0))\n",
    "draw_line2((0, 0), (100, 100), fb)\n",
    "draw_line2((0, 0), (199, 15), fb)\n",
    "draw_line2((0, 0), (15, 199), fb)\n",
    "fb.display()"
   ]
  },
  {
   "attachments": {},
   "cell_type": "markdown",
   "metadata": {},
   "source": [
    "- 这样对长线段无法很好表示的问题得到了改善\n",
    "- 又产生了新的问题，因为我们对于长度的考虑只是对应x，当线段斜率很大的时候，我们又不能很好的表示了"
   ]
  },
  {
   "attachments": {},
   "cell_type": "markdown",
   "metadata": {},
   "source": [
    "# 改进#2\n",
    "看起点和终点x方向和y方向上的差值哪个比较大，用大的来作为我们取多少点的依据。"
   ]
  },
  {
   "cell_type": "code",
   "execution_count": 8,
   "metadata": {},
   "outputs": [
    {
     "data": {
      "image/png": "[encoded data removed]",
      "text/plain": [
       "<PIL.Image.Image image mode=RGB size=200x200>"
      ]
     },
     "metadata": {},
     "output_type": "display_data"
    }
   ],
   "source": [
    "def draw_line3(start, end, frame_buffer):\n",
    "    x0, y0 = start\n",
    "    x1, y1 = end\n",
    "    if(x0 > x1):\n",
    "        return draw_line3(end, start, frame_buffer)\n",
    "    if(x1 == x0):\n",
    "        frame_buffer.draw_point(start)\n",
    "        return\n",
    "    t = 0\n",
    "    cnt = max(abs(x1 - x0), abs(y1 - y0))\n",
    "    dt = 1.0 / cnt\n",
    "    while(t < 1):\n",
    "        x = x0 + (x1 - x0) * t\n",
    "        y = y0 + (y1 - y0) * t\n",
    "        frame_buffer.draw_point((x, y))\n",
    "        t += dt\n",
    "\n",
    "fb.fill((0, 0, 0))\n",
    "draw_line3((0, 0), (100, 100), fb)\n",
    "draw_line3((0, 0), (199, 15), fb)\n",
    "draw_line3((0, 0), (15, 199), fb)\n",
    "fb.display()"
   ]
  },
  {
   "attachments": {},
   "cell_type": "markdown",
   "metadata": {},
   "source": [
    "- ok!我们得到了看起来还不错的效果\n",
    "- 但是到这里就结束了吗？并没有，我们还有优化的空间"
   ]
  },
  {
   "attachments": {},
   "cell_type": "markdown",
   "metadata": {},
   "source": [
    "# 改进#3\n",
    "注意到我们在循环里每次计算采样点x，y的位置的时候，其实是长的边增加一，短的边增加斜率那么多，我们可以在循环里每次把长的边增加一个单位，短的边增加相应的斜率来更新我们的采样点。"
   ]
  },
  {
   "cell_type": "code",
   "execution_count": 9,
   "metadata": {},
   "outputs": [
    {
     "data": {
      "image/png": "[encoded data removed]",
      "text/plain": [
       "<PIL.Image.Image image mode=RGB size=200x200>"
      ]
     },
     "metadata": {},
     "output_type": "display_data"
    }
   ],
   "source": [
    "def draw_line(start, end, frame_buffer, reverse=False):\n",
    "    x0, y0 = start\n",
    "    x1, y1 = end\n",
    "    if(x0 > x1):\n",
    "        return draw_line(end, start, frame_buffer, reverse)\n",
    "    if(x1 == x0):\n",
    "        frame_buffer.draw_point(start)\n",
    "        return\n",
    "    if abs(x1 - x0) < abs(y1 - y0):\n",
    "        return draw_line((y0, x0), (y1, x1), frame_buffer, True)\n",
    "    dt = (y1 - y0) / (x1 - x0)\n",
    "    if reverse:\n",
    "        for i in range(round(x0), round(x1) + 1):\n",
    "            y0 += dt\n",
    "            frame_buffer.draw_point((y0, i))\n",
    "    else:\n",
    "        for i in range(round(x0), round(x1) + 1):\n",
    "            y0 += dt\n",
    "            frame_buffer.draw_point((i, y0))\n",
    "    \n",
    "fb.fill((0, 0, 0))    \n",
    "draw_line((0, 0), (50, 50), fb)\n",
    "draw_line((0, 0), (199, 15), fb)\n",
    "draw_line((0, 0), (15, 199), fb)\n",
    "fb.display()"
   ]
  },
  {
   "cell_type": "code",
   "execution_count": 10,
   "metadata": {},
   "outputs": [
    {
     "data": {
      "image/png": "[encoded data removed]",
      "text/plain": [
       "<PIL.Image.Image image mode=RGB size=1000x1000>"
      ]
     },
     "metadata": {},
     "output_type": "display_data"
    }
   ],
   "source": [
    "import model\n",
    "fb = buffer.FrameBuffer(1000, 1000)\n",
    "a = model.Model(\"./obj/babala/babala.obj\")\n",
    "fb.clear()\n",
    "for i in a.face:\n",
    "    v = a.get_vertex(i)\n",
    "    for j in range(3):\n",
    "        x0, y0 = (v[j][0] / 14 + 1) * fb.width / 2.0, (-v[j][1] / 20 - 0.5)  * fb.height / 2.0,\n",
    "        x1, y1 = (v[(j + 1) % 3][0] / 14 + 1) * fb.width / 2.0, (-v[(j + 1) % 3][1] / 20 - 0.5)  * fb.height / 2.0,\n",
    "        draw_line((x0, y0), (x1, y1), fb)\n",
    "fb.display()"
   ]
  }
 ],
 "metadata": {
  "kernelspec": {
   "display_name": "graphic",
   "language": "python",
   "name": "python3"
  },
  "language_info": {
   "codemirror_mode": {
    "name": "ipython",
    "version": 3
   },
   "file_extension": ".py",
   "mimetype": "text/x-python",
   "name": "python",
   "nbconvert_exporter": "python",
   "pygments_lexer": "ipython3",
   "version": "3.10.9"
  },
  "orig_nbformat": 4,
  "vscode": {
   "interpreter": {
    "hash": "99509e1328c23c2e28f5ed7403413cca26f255f68a9948c9803edab1ea87de40"
   }
  }
 },
 "nbformat": 4,
 "nbformat_minor": 2
}
